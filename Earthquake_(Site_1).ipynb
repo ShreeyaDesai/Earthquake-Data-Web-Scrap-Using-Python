{
  "nbformat": 4,
  "nbformat_minor": 0,
  "metadata": {
    "colab": {
      "provenance": []
    },
    "kernelspec": {
      "name": "python3",
      "display_name": "Python 3"
    },
    "language_info": {
      "name": "python"
    }
  },
  "cells": [
    {
      "cell_type": "code",
      "source": [
        "# Ran the code using GOOGLE COLAB\n",
        "\n",
        "# Covered requirements:\n",
        "# It must pull data from the internet (typically webpages)\n",
        "# It must pull data from 5 different webpages (using pandas)-- This is 1st page\n",
        "# It must do some basic calculations on numerical data from 3 of those pages (mean, median, mode, min, max)-- DOES ALL OF THE MENTIONED\n",
        "# It must make use of your own methods where appropriate\n",
        "# It must produce at least 3 charts from 3 of those pages\n",
        "# It must save the data to a file\n",
        "\n",
        "\n",
        "# Covered Additional requirements:\n",
        "# 1 of the webpages includes data which changes daily --- will have new data every year for yearly reports\n",
        "# The 5 webpages are from 5 different websites \n",
        "# It does basic calculations on all 5 of those webpages \n",
        "# It produces 5 charts from all 5 of the webpages \n",
        "# It saves the charts in addition to the data, to image files\n",
        "\n",
        "\n",
        "\n",
        "import pandas as pd\n",
        "import numpy as np\n",
        "import statistics as st\n",
        "import matplotlib.pyplot as plt\n",
        "from google.colab import files\n",
        "\n",
        "url = ('https://en.wikipedia.org/wiki/List_of_earthquakes_in_2021')\n",
        "XY= pd.read_html(url)\n",
        "\n",
        "table1=XY[2]                                                                    #First Table \n",
        "table2=XY[3]                                                                    #Second Table \n",
        "\n",
        "print(\"This is first table\\n\", table1)                                          #View First Table \n",
        "print(\"\\n This is Second table\\n\",table2)                                       #View Second Table \n",
        "\n",
        "table1.to_csv('table1.csv')                                                     #Save Frist Table to CSV\n",
        "files.download('table1.csv')                                                    #Download Frist Table to CSV\n",
        "\n",
        "table2.to_csv('table2.csv')                                                     #Save Frist Table to CSV\n",
        "files.download('table2.csv')                                                    #Download Frist Table to CSV\n",
        "\n",
        "table1=table1.drop(5)                                                           #droping the total row from the first table\n",
        "print(\"\\n This is modified first table\\n\", table1)                              #View modified First Table \n",
        "\n",
        "# Performing basic operations on the Second Table \n",
        "magnitude_sum = sum(table2['Magnitude'])\n",
        "print (\"\\n\" + \"The output of basic operations is:\" + \"\\n\" + \"Sum:\" ,magnitude_sum)\n",
        "\n",
        "magnitude_min = min(table2['Magnitude'])\n",
        "print (\"Minimum Value:\" ,magnitude_min)\n",
        "\n",
        "magnitude_max = max(table2['Magnitude'])\n",
        "print (\"Maximum Value:\" ,magnitude_max)\n",
        "\n",
        "magnitude_mean = magnitude_sum/len(table2['Magnitude'])\n",
        "print (\"Mean:\" ,magnitude_mean)\n",
        "\n",
        "magnitude_median = st.median(table2['Magnitude'])\n",
        "print (\"Median:\" ,magnitude_median)\n",
        "\n",
        "magnitude_mode = st.mode(table2['Magnitude'])\n",
        "print (\"Mode:\" ,magnitude_mode)\n",
        "\n",
        "\n",
        "\n",
        "#USING TABLE 1 TO PLOT GRAPH OF THE MAGNITUDE OVER THE YEARS \n",
        "\n",
        "magnitude_tab1 = table1.loc[:, 'Magnitude'].values\n",
        "data_year11 = table1.loc[:, '2011'].values\n",
        "data_year12 = table1.loc[:, '2012'].values\n",
        "data_year13 = table1.loc[:, '2013'].values\n",
        "data_year14 = table1.loc[:, '2014'].values\n",
        "data_year15 = table1.loc[:, '2015'].values\n",
        "data_year16 = table1.loc[:, '2016'].values\n",
        "data_year17 = table1.loc[:, '2017'].values\n",
        "data_year18 = table1.loc[:, '2018'].values\n",
        "data_year19 = table1.loc[:, '2019'].values\n",
        "data_year20 = table1.loc[:, '2020'].values\n",
        "data_year21 = table1.loc[:, '2021'].values\n",
        "\n",
        "plt.style.use('seaborn')\n",
        "plt.plot(magnitude_tab1, data_year11)\n",
        "plt.plot(magnitude_tab1, data_year12)\n",
        "plt.plot(magnitude_tab1, data_year13)\n",
        "plt.plot(magnitude_tab1, data_year14)\n",
        "plt.plot(magnitude_tab1, data_year15)\n",
        "plt.plot(magnitude_tab1, data_year16)\n",
        "plt.plot(magnitude_tab1, data_year17)\n",
        "plt.plot(magnitude_tab1, data_year18)\n",
        "plt.plot(magnitude_tab1, data_year19)\n",
        "plt.plot(magnitude_tab1, data_year20)\n",
        "plt.plot(magnitude_tab1, data_year21)\n",
        "plt.xlabel(\"Magnitude\")\n",
        "plt.ylabel(\"Number of earthquakes\")\n",
        "plt.title(\"Number of earthquakes worldwide for 2011–2021\")\n",
        "plt.tight_layout()\n",
        "plt.savefig('graph1-1.png')                                                     #Saving the Frist graph\n",
        "files.download('graph1-1.png')                                                  #Downloading the First graph\n",
        "\n",
        "\n",
        "# TABLE 2 SHOWING MAGNITUDE AND DEPT WITH RESPECT TO THE INTENSITY SCALING \n",
        "# Comment the above first graph in order to use the graph for second table\n",
        "\n",
        "# intensity_scale = table2.loc[:, 'MMI'].values\n",
        "# Death_toll = table2.loc[:, 'Magnitude'].values\n",
        "# depth = table2.loc[:, 'Depth (km)'].values\n",
        "\n",
        "# plt.style.use('ggplot')\n",
        "# plt.plot(intensity_scale, Death_toll)\n",
        "# plt.plot(intensity_scale, depth)\n",
        "\n",
        "# plt.xlabel(\"Intensity Scale\")\n",
        "# plt.ylabel(\"Magnitude and Depth\")\n",
        "# plt.title(\"Intensity Scaling\")\n",
        "# plt.tight_layout()\n",
        "# plt.savefig('graph2.png')                                                     ##Saving the Second graph\n",
        "# files.download('graph2.png')                                                  ##Downloaing the Second graph"
      ],
      "metadata": {
        "colab": {
          "base_uri": "https://localhost:8080/",
          "height": 1000
        },
        "id": "3O6RevrsRiu_",
        "outputId": "69b1e71b-fc3d-4534-8af7-696d5dc4e735"
      },
      "execution_count": 1,
      "outputs": [
        {
          "output_type": "stream",
          "name": "stdout",
          "text": [
            "This is first table\n",
            "   Magnitude   2011   2012   2013   2014   2015   2016   2017   2018   2019  \\\n",
            "0   8.0–9.9      1      2      2      1      1      0      1      1      1   \n",
            "1   7.0–7.9     19     14     17     11     18     16      6     16      9   \n",
            "2   6.0–6.9    187    117    123    143    124    127    104    118    135   \n",
            "3   5.0–5.9   2486   1546   1460   1580   1413   1550   1447   1671   1484   \n",
            "4   4.0–4.9  13129  10955  11877  15817  13777  13700  10544  12782  11897   \n",
            "5     Total  15822  12635  13480  17552  15336  15397  12102  14589  13530   \n",
            "\n",
            "    2020   2021  \n",
            "0      0      3  \n",
            "1      9     16  \n",
            "2    112    141  \n",
            "3   1319   2046  \n",
            "4  12216  14658  \n",
            "5  13654  16864  \n",
            "\n",
            " This is Second table\n",
            "    Rank  Death toll  Magnitude                       Location  \\\n",
            "0     1        2248        7.2                  Haiti, Nippes   \n",
            "1     2         105        6.2       Indonesia, West Sulawesi   \n",
            "2     3          27        5.9          Pakistan, Balochistan   \n",
            "3     4          20        7.3                 China, Qinghai   \n",
            "4     5          13        7.0               Mexico, Guerrero   \n",
            "5     6          12        7.5                   Peru, Loreto   \n",
            "6     7          10        6.0  Indonesia, East Java offshore   \n",
            "\n",
            "                 MMI  Depth (km)         Date                          Event  \n",
            "0      VIII (Severe)        10.0    August 14          2021 Haiti earthquake  \n",
            "1        VI (Strong)        18.0   January 15  2021 West Sulawesi earthquake  \n",
            "2  VII (Very Strong)         9.0    October 6    2021 Balochistan earthquake  \n",
            "3        X (Extreme)        10.0       May 21          2021 Maduo earthquake  \n",
            "4      VIII (Severe)        20.0  September 7       2021 Guerrero earthquake  \n",
            "5      VIII (Severe)       112.5  November 28  2021 Northern Peru earthquake  \n",
            "6       V (Moderate)        67.0     April 10      2021 East Java earthquake  \n"
          ]
        },
        {
          "output_type": "display_data",
          "data": {
            "text/plain": [
              "<IPython.core.display.Javascript object>"
            ],
            "application/javascript": [
              "\n",
              "    async function download(id, filename, size) {\n",
              "      if (!google.colab.kernel.accessAllowed) {\n",
              "        return;\n",
              "      }\n",
              "      const div = document.createElement('div');\n",
              "      const label = document.createElement('label');\n",
              "      label.textContent = `Downloading \"${filename}\": `;\n",
              "      div.appendChild(label);\n",
              "      const progress = document.createElement('progress');\n",
              "      progress.max = size;\n",
              "      div.appendChild(progress);\n",
              "      document.body.appendChild(div);\n",
              "\n",
              "      const buffers = [];\n",
              "      let downloaded = 0;\n",
              "\n",
              "      const channel = await google.colab.kernel.comms.open(id);\n",
              "      // Send a message to notify the kernel that we're ready.\n",
              "      channel.send({})\n",
              "\n",
              "      for await (const message of channel.messages) {\n",
              "        // Send a message to notify the kernel that we're ready.\n",
              "        channel.send({})\n",
              "        if (message.buffers) {\n",
              "          for (const buffer of message.buffers) {\n",
              "            buffers.push(buffer);\n",
              "            downloaded += buffer.byteLength;\n",
              "            progress.value = downloaded;\n",
              "          }\n",
              "        }\n",
              "      }\n",
              "      const blob = new Blob(buffers, {type: 'application/binary'});\n",
              "      const a = document.createElement('a');\n",
              "      a.href = window.URL.createObjectURL(blob);\n",
              "      a.download = filename;\n",
              "      div.appendChild(a);\n",
              "      a.click();\n",
              "      div.remove();\n",
              "    }\n",
              "  "
            ]
          },
          "metadata": {}
        },
        {
          "output_type": "display_data",
          "data": {
            "text/plain": [
              "<IPython.core.display.Javascript object>"
            ],
            "application/javascript": [
              "download(\"download_c55df76d-a594-4971-b3fe-044bf2f6cc8e\", \"table1.csv\", 417)"
            ]
          },
          "metadata": {}
        },
        {
          "output_type": "display_data",
          "data": {
            "text/plain": [
              "<IPython.core.display.Javascript object>"
            ],
            "application/javascript": [
              "\n",
              "    async function download(id, filename, size) {\n",
              "      if (!google.colab.kernel.accessAllowed) {\n",
              "        return;\n",
              "      }\n",
              "      const div = document.createElement('div');\n",
              "      const label = document.createElement('label');\n",
              "      label.textContent = `Downloading \"${filename}\": `;\n",
              "      div.appendChild(label);\n",
              "      const progress = document.createElement('progress');\n",
              "      progress.max = size;\n",
              "      div.appendChild(progress);\n",
              "      document.body.appendChild(div);\n",
              "\n",
              "      const buffers = [];\n",
              "      let downloaded = 0;\n",
              "\n",
              "      const channel = await google.colab.kernel.comms.open(id);\n",
              "      // Send a message to notify the kernel that we're ready.\n",
              "      channel.send({})\n",
              "\n",
              "      for await (const message of channel.messages) {\n",
              "        // Send a message to notify the kernel that we're ready.\n",
              "        channel.send({})\n",
              "        if (message.buffers) {\n",
              "          for (const buffer of message.buffers) {\n",
              "            buffers.push(buffer);\n",
              "            downloaded += buffer.byteLength;\n",
              "            progress.value = downloaded;\n",
              "          }\n",
              "        }\n",
              "      }\n",
              "      const blob = new Blob(buffers, {type: 'application/binary'});\n",
              "      const a = document.createElement('a');\n",
              "      a.href = window.URL.createObjectURL(blob);\n",
              "      a.download = filename;\n",
              "      div.appendChild(a);\n",
              "      a.click();\n",
              "      div.remove();\n",
              "    }\n",
              "  "
            ]
          },
          "metadata": {}
        },
        {
          "output_type": "display_data",
          "data": {
            "text/plain": [
              "<IPython.core.display.Javascript object>"
            ],
            "application/javascript": [
              "download(\"download_eb47cfe8-448b-4294-9395-0a65e4216e68\", \"table2.csv\", 678)"
            ]
          },
          "metadata": {}
        },
        {
          "output_type": "stream",
          "name": "stdout",
          "text": [
            "\n",
            " This is modified first table\n",
            "   Magnitude   2011   2012   2013   2014   2015   2016   2017   2018   2019  \\\n",
            "0   8.0–9.9      1      2      2      1      1      0      1      1      1   \n",
            "1   7.0–7.9     19     14     17     11     18     16      6     16      9   \n",
            "2   6.0–6.9    187    117    123    143    124    127    104    118    135   \n",
            "3   5.0–5.9   2486   1546   1460   1580   1413   1550   1447   1671   1484   \n",
            "4   4.0–4.9  13129  10955  11877  15817  13777  13700  10544  12782  11897   \n",
            "\n",
            "    2020   2021  \n",
            "0      0      3  \n",
            "1      9     16  \n",
            "2    112    141  \n",
            "3   1319   2046  \n",
            "4  12216  14658  \n",
            "\n",
            "The output of basic operations is:\n",
            "Sum: 47.1\n",
            "Minimum Value: 5.9\n",
            "Maximum Value: 7.5\n",
            "Mean: 6.728571428571429\n",
            "Median: 7.0\n",
            "Mode: 7.2\n"
          ]
        },
        {
          "output_type": "display_data",
          "data": {
            "text/plain": [
              "<IPython.core.display.Javascript object>"
            ],
            "application/javascript": [
              "\n",
              "    async function download(id, filename, size) {\n",
              "      if (!google.colab.kernel.accessAllowed) {\n",
              "        return;\n",
              "      }\n",
              "      const div = document.createElement('div');\n",
              "      const label = document.createElement('label');\n",
              "      label.textContent = `Downloading \"${filename}\": `;\n",
              "      div.appendChild(label);\n",
              "      const progress = document.createElement('progress');\n",
              "      progress.max = size;\n",
              "      div.appendChild(progress);\n",
              "      document.body.appendChild(div);\n",
              "\n",
              "      const buffers = [];\n",
              "      let downloaded = 0;\n",
              "\n",
              "      const channel = await google.colab.kernel.comms.open(id);\n",
              "      // Send a message to notify the kernel that we're ready.\n",
              "      channel.send({})\n",
              "\n",
              "      for await (const message of channel.messages) {\n",
              "        // Send a message to notify the kernel that we're ready.\n",
              "        channel.send({})\n",
              "        if (message.buffers) {\n",
              "          for (const buffer of message.buffers) {\n",
              "            buffers.push(buffer);\n",
              "            downloaded += buffer.byteLength;\n",
              "            progress.value = downloaded;\n",
              "          }\n",
              "        }\n",
              "      }\n",
              "      const blob = new Blob(buffers, {type: 'application/binary'});\n",
              "      const a = document.createElement('a');\n",
              "      a.href = window.URL.createObjectURL(blob);\n",
              "      a.download = filename;\n",
              "      div.appendChild(a);\n",
              "      a.click();\n",
              "      div.remove();\n",
              "    }\n",
              "  "
            ]
          },
          "metadata": {}
        },
        {
          "output_type": "display_data",
          "data": {
            "text/plain": [
              "<IPython.core.display.Javascript object>"
            ],
            "application/javascript": [
              "download(\"download_e2b011a5-539c-47ad-afcd-11737649400b\", \"graph1-1.png\", 41764)"
            ]
          },
          "metadata": {}
        },
        {
          "output_type": "display_data",
          "data": {
            "text/plain": [
              "<Figure size 576x396 with 1 Axes>"
            ],
            "image/png": "[encoded data removed]"
          },
          "metadata": {}
        }
      ]
    }
  ]
}